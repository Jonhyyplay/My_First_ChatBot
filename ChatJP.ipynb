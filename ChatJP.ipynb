{
  "nbformat": 4,
  "nbformat_minor": 0,
  "metadata": {
    "colab": {
      "provenance": [],
      "include_colab_link": true
    },
    "kernelspec": {
      "name": "python3",
      "display_name": "Python 3"
    },
    "language_info": {
      "name": "python"
    }
  },
  "cells": [
    {
      "cell_type": "markdown",
      "metadata": {
        "id": "view-in-github",
        "colab_type": "text"
      },
      "source": [
        "<a href=\"https://colab.research.google.com/github/Jonhyyplay/My_First_ChatBot/blob/main/ChatJP.ipynb\" target=\"_parent\"><img src=\"https://colab.research.google.com/assets/colab-badge.svg\" alt=\"Open In Colab\"/></a>"
      ]
    },
    {
      "cell_type": "code",
      "execution_count": null,
      "metadata": {
        "colab": {
          "base_uri": "https://localhost:8080/"
        },
        "id": "SxumF6_mytpX",
        "outputId": "5266fc62-5715-4689-87b1-842309888e5e"
      },
      "outputs": [
        {
          "output_type": "stream",
          "name": "stdout",
          "text": [
            "Requirement already satisfied: google-generativeai in /usr/local/lib/python3.10/dist-packages (0.5.2)\n",
            "Requirement already satisfied: google-ai-generativelanguage==0.6.2 in /usr/local/lib/python3.10/dist-packages (from google-generativeai) (0.6.2)\n",
            "Requirement already satisfied: google-api-core in /usr/local/lib/python3.10/dist-packages (from google-generativeai) (2.11.1)\n",
            "Requirement already satisfied: google-api-python-client in /usr/local/lib/python3.10/dist-packages (from google-generativeai) (2.84.0)\n",
            "Requirement already satisfied: google-auth>=2.15.0 in /usr/local/lib/python3.10/dist-packages (from google-generativeai) (2.27.0)\n",
            "Requirement already satisfied: protobuf in /usr/local/lib/python3.10/dist-packages (from google-generativeai) (3.20.3)\n",
            "Requirement already satisfied: pydantic in /usr/local/lib/python3.10/dist-packages (from google-generativeai) (2.7.1)\n",
            "Requirement already satisfied: tqdm in /usr/local/lib/python3.10/dist-packages (from google-generativeai) (4.66.4)\n",
            "Requirement already satisfied: typing-extensions in /usr/local/lib/python3.10/dist-packages (from google-generativeai) (4.11.0)\n",
            "Requirement already satisfied: proto-plus<2.0.0dev,>=1.22.3 in /usr/local/lib/python3.10/dist-packages (from google-ai-generativelanguage==0.6.2->google-generativeai) (1.23.0)\n",
            "Requirement already satisfied: cachetools<6.0,>=2.0.0 in /usr/local/lib/python3.10/dist-packages (from google-auth>=2.15.0->google-generativeai) (5.3.3)\n",
            "Requirement already satisfied: pyasn1-modules>=0.2.1 in /usr/local/lib/python3.10/dist-packages (from google-auth>=2.15.0->google-generativeai) (0.4.0)\n",
            "Requirement already satisfied: rsa<5,>=3.1.4 in /usr/local/lib/python3.10/dist-packages (from google-auth>=2.15.0->google-generativeai) (4.9)\n",
            "Requirement already satisfied: googleapis-common-protos<2.0.dev0,>=1.56.2 in /usr/local/lib/python3.10/dist-packages (from google-api-core->google-generativeai) (1.63.0)\n",
            "Requirement already satisfied: requests<3.0.0.dev0,>=2.18.0 in /usr/local/lib/python3.10/dist-packages (from google-api-core->google-generativeai) (2.31.0)\n",
            "Requirement already satisfied: httplib2<1dev,>=0.15.0 in /usr/local/lib/python3.10/dist-packages (from google-api-python-client->google-generativeai) (0.22.0)\n",
            "Requirement already satisfied: google-auth-httplib2>=0.1.0 in /usr/local/lib/python3.10/dist-packages (from google-api-python-client->google-generativeai) (0.1.1)\n",
            "Requirement already satisfied: uritemplate<5,>=3.0.1 in /usr/local/lib/python3.10/dist-packages (from google-api-python-client->google-generativeai) (4.1.1)\n",
            "Requirement already satisfied: annotated-types>=0.4.0 in /usr/local/lib/python3.10/dist-packages (from pydantic->google-generativeai) (0.6.0)\n",
            "Requirement already satisfied: pydantic-core==2.18.2 in /usr/local/lib/python3.10/dist-packages (from pydantic->google-generativeai) (2.18.2)\n",
            "Requirement already satisfied: grpcio<2.0dev,>=1.33.2 in /usr/local/lib/python3.10/dist-packages (from google-api-core->google-generativeai) (1.63.0)\n",
            "Requirement already satisfied: grpcio-status<2.0.dev0,>=1.33.2 in /usr/local/lib/python3.10/dist-packages (from google-api-core->google-generativeai) (1.48.2)\n",
            "Requirement already satisfied: pyparsing!=3.0.0,!=3.0.1,!=3.0.2,!=3.0.3,<4,>=2.4.2 in /usr/local/lib/python3.10/dist-packages (from httplib2<1dev,>=0.15.0->google-api-python-client->google-generativeai) (3.1.2)\n",
            "Requirement already satisfied: pyasn1<0.7.0,>=0.4.6 in /usr/local/lib/python3.10/dist-packages (from pyasn1-modules>=0.2.1->google-auth>=2.15.0->google-generativeai) (0.6.0)\n",
            "Requirement already satisfied: charset-normalizer<4,>=2 in /usr/local/lib/python3.10/dist-packages (from requests<3.0.0.dev0,>=2.18.0->google-api-core->google-generativeai) (3.3.2)\n",
            "Requirement already satisfied: idna<4,>=2.5 in /usr/local/lib/python3.10/dist-packages (from requests<3.0.0.dev0,>=2.18.0->google-api-core->google-generativeai) (3.7)\n",
            "Requirement already satisfied: urllib3<3,>=1.21.1 in /usr/local/lib/python3.10/dist-packages (from requests<3.0.0.dev0,>=2.18.0->google-api-core->google-generativeai) (2.0.7)\n",
            "Requirement already satisfied: certifi>=2017.4.17 in /usr/local/lib/python3.10/dist-packages (from requests<3.0.0.dev0,>=2.18.0->google-api-core->google-generativeai) (2024.2.2)\n"
          ]
        }
      ],
      "source": [
        "!pip install -U google-generativeai"
      ]
    },
    {
      "cell_type": "markdown",
      "source": [
        "ChatBot\n"
      ],
      "metadata": {
        "id": "t09P4nDGy2zL"
      }
    },
    {
      "cell_type": "code",
      "source": [
        "#API Key\n",
        "import google.generativeai as genai\n",
        "from google.colab import userdata\n",
        "\n",
        "API_KEY = userdata.get(\"secretName\")\n",
        "genai.configure(api_key = API_KEY)\n",
        "\n",
        "#Set up the model\n",
        "generation_config = {\n",
        "    \"candidated_count\": 1,\n",
        "    \"temperature\": 0.5,\n",
        "    \"top_p\": 0.95,\n",
        "    \"top_k\": 35,\n",
        "\n",
        "}\n",
        "\n",
        "safety_settings = {\n",
        "  \"harassment\": \"BLOCK_NONE\",\n",
        "  \"hate\": \"BLOCK_NONE\",\n",
        "  \"sexual\": \"BLOCK_NONE\",\n",
        "  \"dangerous\": \"BLOCK_NONE\",\n",
        "}\n",
        "\n",
        "model = genai.GenerativeModel(\"gemini-1.0-pro\")\n",
        "chat = model.start_chat(history=[])\n",
        "prompt = input(\"Esperando prompt: \")\n",
        "\n",
        "#The CHAT, the CHAD:\n",
        "while prompt != \"fim\":\n",
        "  response = chat.send_message(prompt)\n",
        "  print(\"Resposta: \", response.text,\"\\n\")\n",
        "  prompt = input(\"Esperando prompt: \")"
      ],
      "metadata": {
        "id": "dgAMoJ1_y6kE",
        "outputId": "0eb693dd-32c9-4ea1-8726-aab075355e84",
        "colab": {
          "base_uri": "https://localhost:8080/",
          "height": 967
        }
      },
      "execution_count": null,
      "outputs": [
        {
          "name": "stdout",
          "output_type": "stream",
          "text": [
            "Esperando prompt: Olá, o que você pode fazer tanto?\n",
            "Resposta:  **Comunicação:**\n",
            "\n",
            "* Responder perguntas\n",
            "* Gerar texto, incluindo redações, e-mails e histórias\n",
            "* Traduzir idiomas\n",
            "* Resumir e parafrasear texto\n",
            "\n",
            "**Pesquisa e Informação:**\n",
            "\n",
            "* Fornecer informações sobre uma ampla gama de tópicos\n",
            "* Encontrar dados e estatísticas\n",
            "* Gerar ideias para projetos e tópicos de pesquisa\n",
            "* Oferecer sugestões e recomendações\n",
            "\n",
            "**Criatividade e Entretenimento:**\n",
            "\n",
            "* Gerar poemas, músicas e outras formas de arte\n",
            "* Escrever roteiros, peças e outros conteúdos de entretenimento\n",
            "* Criar jogos e quebra-cabeças\n",
            "* Fornecer inspiração para soluções criativas\n",
            "\n",
            "**Educação e Aprendizado:**\n",
            "\n",
            "* Explicar conceitos e fornecer exemplos\n",
            "* Gerar planos de aula e atividades\n",
            "* Auxiliar na prática de idiomas\n",
            "* Fornecer tutoria e orientação\n",
            "\n",
            "**Saúde e Bem-estar:**\n",
            "\n",
            "* Fornecer informações sobre condições de saúde e tratamentos\n",
            "* Gerar planos de alimentação e exercícios personalizados\n",
            "* Oferecer suporte emocional e orientação\n",
            "* Agendar compromissos\n",
            "\n",
            "**Negócios e Produtividade:**\n",
            "\n",
            "* Criar apresentações, planilhas e outros documentos\n",
            "* Gerenciar e rastrear tarefas e projetos\n",
            "* Fornecer análises de dados e tendências de mercado\n",
            "* Automatizar processos e melhorar a eficiência\n",
            "\n",
            "**Outros:**\n",
            "\n",
            "* Oferecer suporte ao cliente e resolução de problemas\n",
            "* Agir como um assistente pessoal\n",
            "* Fornecer informações sobre eventos e locais\n",
            "* Manter o tempo e definir alarmes\n",
            "* Controlar dispositivos domésticos \n",
            "\n",
            "Esperando prompt: fim\n"
          ]
        }
      ]
    },
    {
      "cell_type": "markdown",
      "source": [
        "Histórico"
      ],
      "metadata": {
        "id": "633Cp_4py-8N"
      }
    },
    {
      "cell_type": "code",
      "source": [
        "chat = model.start_chat(history=[])"
      ],
      "metadata": {
        "id": "02NVWCE6y0yh"
      },
      "execution_count": null,
      "outputs": []
    },
    {
      "cell_type": "code",
      "source": [
        "# Melhorando a visualização\n",
        "# Código disponível em https://ai.google.dev/tutorials/python_quickstart#import_packages\n",
        "import textwrap\n",
        "from IPython.display import display\n",
        "from IPython.display import Markdown\n",
        "\n",
        "def to_markdown(text):\n",
        "  text = text.replace('*', '\\*')\n",
        "  return Markdown(textwrap.indent(text, '> ', predicate=lambda _: True))\n",
        "\n",
        "# Imprimindo o histórico\n",
        "for message in chat.history:\n",
        "  display(to_markdown(f'**{message.role}**: {message.parts[0].text}'))\n",
        "  print('-------------------------------------------')\n"
      ],
      "metadata": {
        "id": "wLZ2moU1zB6W",
        "outputId": "f424aa96-dcc6-4527-e675-d10607804ab2",
        "colab": {
          "base_uri": "https://localhost:8080/",
          "height": 535
        }
      },
      "execution_count": null,
      "outputs": [
        {
          "output_type": "display_data",
          "data": {
            "text/plain": [
              "<IPython.core.display.Markdown object>"
            ],
            "text/markdown": "> \\*\\*user\\*\\*: Olá, o que você pode fazer tanto?"
          },
          "metadata": {}
        },
        {
          "output_type": "stream",
          "name": "stdout",
          "text": [
            "-------------------------------------------\n"
          ]
        },
        {
          "output_type": "display_data",
          "data": {
            "text/plain": [
              "<IPython.core.display.Markdown object>"
            ],
            "text/markdown": "> \\*\\*model\\*\\*: \\*\\*Comunicação:\\*\\*\n> \n> \\* Responder perguntas\n> \\* Gerar texto, incluindo redações, e-mails e histórias\n> \\* Traduzir idiomas\n> \\* Resumir e parafrasear texto\n> \n> \\*\\*Pesquisa e Informação:\\*\\*\n> \n> \\* Fornecer informações sobre uma ampla gama de tópicos\n> \\* Encontrar dados e estatísticas\n> \\* Gerar ideias para projetos e tópicos de pesquisa\n> \\* Oferecer sugestões e recomendações\n> \n> \\*\\*Criatividade e Entretenimento:\\*\\*\n> \n> \\* Gerar poemas, músicas e outras formas de arte\n> \\* Escrever roteiros, peças e outros conteúdos de entretenimento\n> \\* Criar jogos e quebra-cabeças\n> \\* Fornecer inspiração para soluções criativas\n> \n> \\*\\*Educação e Aprendizado:\\*\\*\n> \n> \\* Explicar conceitos e fornecer exemplos\n> \\* Gerar planos de aula e atividades\n> \\* Auxiliar na prática de idiomas\n> \\* Fornecer tutoria e orientação\n> \n> \\*\\*Saúde e Bem-estar:\\*\\*\n> \n> \\* Fornecer informações sobre condições de saúde e tratamentos\n> \\* Gerar planos de alimentação e exercícios personalizados\n> \\* Oferecer suporte emocional e orientação\n> \\* Agendar compromissos\n> \n> \\*\\*Negócios e Produtividade:\\*\\*\n> \n> \\* Criar apresentações, planilhas e outros documentos\n> \\* Gerenciar e rastrear tarefas e projetos\n> \\* Fornecer análises de dados e tendências de mercado\n> \\* Automatizar processos e melhorar a eficiência\n> \n> \\*\\*Outros:\\*\\*\n> \n> \\* Oferecer suporte ao cliente e resolução de problemas\n> \\* Agir como um assistente pessoal\n> \\* Fornecer informações sobre eventos e locais\n> \\* Manter o tempo e definir alarmes\n> \\* Controlar dispositivos domésticos"
          },
          "metadata": {}
        },
        {
          "output_type": "stream",
          "name": "stdout",
          "text": [
            "-------------------------------------------\n"
          ]
        }
      ]
    }
  ]
}