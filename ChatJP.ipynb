{
  "nbformat": 4,
  "nbformat_minor": 0,
  "metadata": {
    "colab": {
      "provenance": [],
      "toc_visible": true,
      "include_colab_link": true
    },
    "kernelspec": {
      "name": "python3",
      "display_name": "Python 3"
    },
    "language_info": {
      "name": "python"
    }
  },
  "cells": [
    {
      "cell_type": "markdown",
      "metadata": {
        "id": "view-in-github",
        "colab_type": "text"
      },
      "source": [
        "<a href=\"https://colab.research.google.com/github/Jonhyyplay/My_First_ChatBot/blob/main/ChatJP.ipynb\" target=\"_parent\"><img src=\"https://colab.research.google.com/assets/colab-badge.svg\" alt=\"Open In Colab\"/></a>"
      ]
    },
    {
      "cell_type": "code",
      "execution_count": 11,
      "metadata": {
        "colab": {
          "base_uri": "https://localhost:8080/"
        },
        "id": "SxumF6_mytpX",
        "outputId": "65706fa0-e72f-41fd-99f3-44ed7fe5fd91"
      },
      "outputs": [
        {
          "output_type": "stream",
          "name": "stdout",
          "text": [
            "Requirement already satisfied: google-generativeai in /usr/local/lib/python3.11/dist-packages (0.8.5)\n",
            "Requirement already satisfied: google-ai-generativelanguage==0.6.15 in /usr/local/lib/python3.11/dist-packages (from google-generativeai) (0.6.15)\n",
            "Requirement already satisfied: google-api-core in /usr/local/lib/python3.11/dist-packages (from google-generativeai) (2.24.2)\n",
            "Requirement already satisfied: google-api-python-client in /usr/local/lib/python3.11/dist-packages (from google-generativeai) (2.169.0)\n",
            "Requirement already satisfied: google-auth>=2.15.0 in /usr/local/lib/python3.11/dist-packages (from google-generativeai) (2.38.0)\n",
            "Requirement already satisfied: protobuf in /usr/local/lib/python3.11/dist-packages (from google-generativeai) (5.29.4)\n",
            "Requirement already satisfied: pydantic in /usr/local/lib/python3.11/dist-packages (from google-generativeai) (2.11.4)\n",
            "Requirement already satisfied: tqdm in /usr/local/lib/python3.11/dist-packages (from google-generativeai) (4.67.1)\n",
            "Requirement already satisfied: typing-extensions in /usr/local/lib/python3.11/dist-packages (from google-generativeai) (4.13.2)\n",
            "Requirement already satisfied: proto-plus<2.0.0dev,>=1.22.3 in /usr/local/lib/python3.11/dist-packages (from google-ai-generativelanguage==0.6.15->google-generativeai) (1.26.1)\n",
            "Requirement already satisfied: googleapis-common-protos<2.0.0,>=1.56.2 in /usr/local/lib/python3.11/dist-packages (from google-api-core->google-generativeai) (1.70.0)\n",
            "Requirement already satisfied: requests<3.0.0,>=2.18.0 in /usr/local/lib/python3.11/dist-packages (from google-api-core->google-generativeai) (2.32.3)\n",
            "Requirement already satisfied: cachetools<6.0,>=2.0.0 in /usr/local/lib/python3.11/dist-packages (from google-auth>=2.15.0->google-generativeai) (5.5.2)\n",
            "Requirement already satisfied: pyasn1-modules>=0.2.1 in /usr/local/lib/python3.11/dist-packages (from google-auth>=2.15.0->google-generativeai) (0.4.2)\n",
            "Requirement already satisfied: rsa<5,>=3.1.4 in /usr/local/lib/python3.11/dist-packages (from google-auth>=2.15.0->google-generativeai) (4.9.1)\n",
            "Requirement already satisfied: httplib2<1.0.0,>=0.19.0 in /usr/local/lib/python3.11/dist-packages (from google-api-python-client->google-generativeai) (0.22.0)\n",
            "Requirement already satisfied: google-auth-httplib2<1.0.0,>=0.2.0 in /usr/local/lib/python3.11/dist-packages (from google-api-python-client->google-generativeai) (0.2.0)\n",
            "Requirement already satisfied: uritemplate<5,>=3.0.1 in /usr/local/lib/python3.11/dist-packages (from google-api-python-client->google-generativeai) (4.1.1)\n",
            "Requirement already satisfied: annotated-types>=0.6.0 in /usr/local/lib/python3.11/dist-packages (from pydantic->google-generativeai) (0.7.0)\n",
            "Requirement already satisfied: pydantic-core==2.33.2 in /usr/local/lib/python3.11/dist-packages (from pydantic->google-generativeai) (2.33.2)\n",
            "Requirement already satisfied: typing-inspection>=0.4.0 in /usr/local/lib/python3.11/dist-packages (from pydantic->google-generativeai) (0.4.0)\n",
            "Requirement already satisfied: grpcio<2.0dev,>=1.33.2 in /usr/local/lib/python3.11/dist-packages (from google-api-core[grpc]!=2.0.*,!=2.1.*,!=2.10.*,!=2.2.*,!=2.3.*,!=2.4.*,!=2.5.*,!=2.6.*,!=2.7.*,!=2.8.*,!=2.9.*,<3.0.0dev,>=1.34.1->google-ai-generativelanguage==0.6.15->google-generativeai) (1.71.0)\n",
            "Requirement already satisfied: grpcio-status<2.0.dev0,>=1.33.2 in /usr/local/lib/python3.11/dist-packages (from google-api-core[grpc]!=2.0.*,!=2.1.*,!=2.10.*,!=2.2.*,!=2.3.*,!=2.4.*,!=2.5.*,!=2.6.*,!=2.7.*,!=2.8.*,!=2.9.*,<3.0.0dev,>=1.34.1->google-ai-generativelanguage==0.6.15->google-generativeai) (1.71.0)\n",
            "Requirement already satisfied: pyparsing!=3.0.0,!=3.0.1,!=3.0.2,!=3.0.3,<4,>=2.4.2 in /usr/local/lib/python3.11/dist-packages (from httplib2<1.0.0,>=0.19.0->google-api-python-client->google-generativeai) (3.2.3)\n",
            "Requirement already satisfied: pyasn1<0.7.0,>=0.6.1 in /usr/local/lib/python3.11/dist-packages (from pyasn1-modules>=0.2.1->google-auth>=2.15.0->google-generativeai) (0.6.1)\n",
            "Requirement already satisfied: charset-normalizer<4,>=2 in /usr/local/lib/python3.11/dist-packages (from requests<3.0.0,>=2.18.0->google-api-core->google-generativeai) (3.4.2)\n",
            "Requirement already satisfied: idna<4,>=2.5 in /usr/local/lib/python3.11/dist-packages (from requests<3.0.0,>=2.18.0->google-api-core->google-generativeai) (3.10)\n",
            "Requirement already satisfied: urllib3<3,>=1.21.1 in /usr/local/lib/python3.11/dist-packages (from requests<3.0.0,>=2.18.0->google-api-core->google-generativeai) (2.4.0)\n",
            "Requirement already satisfied: certifi>=2017.4.17 in /usr/local/lib/python3.11/dist-packages (from requests<3.0.0,>=2.18.0->google-api-core->google-generativeai) (2025.4.26)\n"
          ]
        }
      ],
      "source": [
        "!pip install -U google-generativeai"
      ]
    },
    {
      "cell_type": "markdown",
      "source": [
        "ChatBot\n"
      ],
      "metadata": {
        "id": "t09P4nDGy2zL"
      }
    },
    {
      "cell_type": "code",
      "source": [
        "#API Key\n",
        "import google.generativeai as genai\n",
        "from google.colab import userdata\n",
        "\n",
        "API_KEY = userdata.get(\"secretName\")\n",
        "genai.configure(api_key = API_KEY)\n",
        "\n",
        "#Set up the model\n",
        "generation_config = {\n",
        "    \"candidated_count\": 1,\n",
        "    \"temperature\": 0.5,\n",
        "    \"top_p\": 0.95,\n",
        "    \"top_k\": 35,\n",
        "\n",
        "}\n",
        "\n",
        "safety_settings = {\n",
        "  \"harassment\": \"BLOCK_NONE\",\n",
        "  \"hate\": \"BLOCK_NONE\",\n",
        "  \"sexual\": \"BLOCK_NONE\",\n",
        "  \"dangerous\": \"BLOCK_NONE\",\n",
        "}\n",
        "\n",
        "model = genai.GenerativeModel(\"gemini-2.5-flash-preview-04-17\")\n",
        "chat = model.start_chat(history=[])\n",
        "prompt = input(\"Esperando prompt: \")\n",
        "\n",
        "#The CHAT, the CHAD:\n",
        "while prompt != \"fim\":\n",
        "  response = chat.send_message(prompt)\n",
        "  print(\"Resposta: \", response.text,\"\\n\")\n",
        "  prompt = input(\"Esperando prompt: \")"
      ],
      "metadata": {
        "id": "dgAMoJ1_y6kE",
        "outputId": "097b85c9-37e9-4989-92a6-66048051d356",
        "colab": {
          "base_uri": "https://localhost:8080/",
          "height": 416
        }
      },
      "execution_count": 13,
      "outputs": [
        {
          "name": "stdout",
          "output_type": "stream",
          "text": [
            "Esperando prompt: Olá\n",
            "Resposta:  Olá! Como posso ajudar? \n",
            "\n",
            "Esperando prompt: O que você consegue fazer tanto?\n",
            "Resposta:  Olá! Eu sou um modelo de linguagem grande, treinado pelo Google.\n",
            "\n",
            "Eu consigo fazer muitas coisas, como:\n",
            "\n",
            "1.  **Responder a perguntas:** Sobre uma vasta gama de tópicos, desde ciência e história até cultura pop e informações gerais.\n",
            "2.  **Gerar textos criativos:** Posso escrever histórias, poemas, roteiros, músicas, e-mails, cartas, e muito mais, em diferentes estilos.\n",
            "3.  **Traduzir idiomas:** Ajudo a traduzir textos entre várias línguas.\n",
            "4.  **Resumir informações:** Posso pegar um texto longo e criar um resumo conciso.\n",
            "5.  **Explicar conceitos complexos:** Simplifico ideias difíceis para que sejam mais fáceis de entender.\n",
            "6.  **Ajudar com a escrita:** Posso te ajudar a gerar ideias (brainstorming), revisar textos, ou melhorar a forma como você escreve.\n",
            "7.  **Manter conversas:** Podemos conversar sobre diversos assuntos.\n",
            "8.  **Seguir instruções:** Faço o meu melhor para seguir as instruções que você me der para realizar uma tarefa.\n",
            "\n",
            "Basicamente, qualquer coisa que envolva processar e gerar texto, eu estou pronto para tentar!\n",
            "\n",
            "Pode me perguntar qualquer coisa ou me dar uma tarefa! Fique à vontade para testar. 😊 \n",
            "\n",
            "Esperando prompt: fim\n"
          ]
        }
      ]
    },
    {
      "cell_type": "markdown",
      "source": [
        "Histórico"
      ],
      "metadata": {
        "id": "633Cp_4py-8N"
      }
    },
    {
      "cell_type": "code",
      "source": [
        "chat = model.start_chat(history=[])"
      ],
      "metadata": {
        "id": "02NVWCE6y0yh"
      },
      "execution_count": 4,
      "outputs": []
    },
    {
      "cell_type": "code",
      "source": [
        "# Melhorando a visualização\n",
        "# Código disponível em https://ai.google.dev/tutorials/python_quickstart#import_packages\n",
        "import textwrap\n",
        "from IPython.display import display\n",
        "from IPython.display import Markdown\n",
        "\n",
        "def to_markdown(text):\n",
        "  text = text.replace('*', '\\*')\n",
        "  return Markdown(textwrap.indent(text, '> ', predicate=lambda _: True))\n",
        "\n",
        "# Imprimindo o histórico\n",
        "for message in chat.history:\n",
        "  display(to_markdown(f'**{message.role}**: {message.parts[0].text}'))\n",
        "  print('-------------------------------------------')\n"
      ],
      "metadata": {
        "id": "wLZ2moU1zB6W",
        "outputId": "7ad6a76e-d230-48ab-e4c1-d6a84b56fb18",
        "colab": {
          "base_uri": "https://localhost:8080/",
          "height": 502
        }
      },
      "execution_count": 14,
      "outputs": [
        {
          "output_type": "display_data",
          "data": {
            "text/plain": [
              "<IPython.core.display.Markdown object>"
            ],
            "text/markdown": "> \\*\\*user\\*\\*: Olá"
          },
          "metadata": {}
        },
        {
          "output_type": "stream",
          "name": "stdout",
          "text": [
            "-------------------------------------------\n"
          ]
        },
        {
          "output_type": "display_data",
          "data": {
            "text/plain": [
              "<IPython.core.display.Markdown object>"
            ],
            "text/markdown": "> \\*\\*model\\*\\*: Olá! Como posso ajudar?"
          },
          "metadata": {}
        },
        {
          "output_type": "stream",
          "name": "stdout",
          "text": [
            "-------------------------------------------\n"
          ]
        },
        {
          "output_type": "display_data",
          "data": {
            "text/plain": [
              "<IPython.core.display.Markdown object>"
            ],
            "text/markdown": "> \\*\\*user\\*\\*: O que você consegue fazer tanto?"
          },
          "metadata": {}
        },
        {
          "output_type": "stream",
          "name": "stdout",
          "text": [
            "-------------------------------------------\n"
          ]
        },
        {
          "output_type": "display_data",
          "data": {
            "text/plain": [
              "<IPython.core.display.Markdown object>"
            ],
            "text/markdown": "> \\*\\*model\\*\\*: Olá! Eu sou um modelo de linguagem grande, treinado pelo Google.\n> \n> Eu consigo fazer muitas coisas, como:\n> \n> 1.  \\*\\*Responder a perguntas:\\*\\* Sobre uma vasta gama de tópicos, desde ciência e história até cultura pop e informações gerais.\n> 2.  \\*\\*Gerar textos criativos:\\*\\* Posso escrever histórias, poemas, roteiros, músicas, e-mails, cartas, e muito mais, em diferentes estilos.\n> 3.  \\*\\*Traduzir idiomas:\\*\\* Ajudo a traduzir textos entre várias línguas.\n> 4.  \\*\\*Resumir informações:\\*\\* Posso pegar um texto longo e criar um resumo conciso.\n> 5.  \\*\\*Explicar conceitos complexos:\\*\\* Simplifico ideias difíceis para que sejam mais fáceis de entender.\n> 6.  \\*\\*Ajudar com a escrita:\\*\\* Posso te ajudar a gerar ideias (brainstorming), revisar textos, ou melhorar a forma como você escreve.\n> 7.  \\*\\*Manter conversas:\\*\\* Podemos conversar sobre diversos assuntos.\n> 8.  \\*\\*Seguir instruções:\\*\\* Faço o meu melhor para seguir as instruções que você me der para realizar uma tarefa.\n> \n> Basicamente, qualquer coisa que envolva processar e gerar texto, eu estou pronto para tentar!\n> \n> Pode me perguntar qualquer coisa ou me dar uma tarefa! Fique à vontade para testar. 😊"
          },
          "metadata": {}
        },
        {
          "output_type": "stream",
          "name": "stdout",
          "text": [
            "-------------------------------------------\n"
          ]
        }
      ]
    }
  ]
}